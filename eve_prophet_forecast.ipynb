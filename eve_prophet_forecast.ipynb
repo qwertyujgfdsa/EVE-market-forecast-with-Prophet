{
 "cells": [
  {
   "cell_type": "code",
   "execution_count": null,
   "id": "09f5fff7",
   "metadata": {},
   "outputs": [
    {
     "name": "stdout",
     "output_type": "stream",
     "text": [
      "18\n"
     ]
    },
    {
     "name": "stderr",
     "output_type": "stream",
     "text": [
      "17:54:25 - cmdstanpy - INFO - Chain [1] start processing\n",
      "17:54:27 - cmdstanpy - INFO - Chain [1] done processing\n"
     ]
    },
    {
     "name": "stdout",
     "output_type": "stream",
     "text": [
      "19\n"
     ]
    },
    {
     "name": "stderr",
     "output_type": "stream",
     "text": [
      "17:54:34 - cmdstanpy - INFO - Chain [1] start processing\n",
      "17:54:34 - cmdstanpy - INFO - Chain [1] done processing\n"
     ]
    },
    {
     "name": "stdout",
     "output_type": "stream",
     "text": [
      "20\n"
     ]
    },
    {
     "name": "stderr",
     "output_type": "stream",
     "text": [
      "17:54:41 - cmdstanpy - INFO - Chain [1] start processing\n",
      "17:54:42 - cmdstanpy - INFO - Chain [1] done processing\n"
     ]
    },
    {
     "name": "stdout",
     "output_type": "stream",
     "text": [
      "21\n"
     ]
    },
    {
     "name": "stderr",
     "output_type": "stream",
     "text": [
      "17:54:49 - cmdstanpy - INFO - Chain [1] start processing\n",
      "17:54:50 - cmdstanpy - INFO - Chain [1] done processing\n"
     ]
    },
    {
     "name": "stdout",
     "output_type": "stream",
     "text": [
      "22\n"
     ]
    },
    {
     "name": "stderr",
     "output_type": "stream",
     "text": [
      "17:54:56 - cmdstanpy - INFO - Chain [1] start processing\n",
      "17:54:57 - cmdstanpy - INFO - Chain [1] done processing\n"
     ]
    },
    {
     "name": "stdout",
     "output_type": "stream",
     "text": [
      "34\n"
     ]
    },
    {
     "name": "stderr",
     "output_type": "stream",
     "text": [
      "17:55:06 - cmdstanpy - INFO - Chain [1] start processing\n",
      "17:55:06 - cmdstanpy - INFO - Chain [1] done processing\n"
     ]
    },
    {
     "name": "stdout",
     "output_type": "stream",
     "text": [
      "35\n"
     ]
    },
    {
     "name": "stderr",
     "output_type": "stream",
     "text": [
      "17:55:17 - cmdstanpy - INFO - Chain [1] start processing\n",
      "17:55:18 - cmdstanpy - INFO - Chain [1] done processing\n"
     ]
    },
    {
     "name": "stdout",
     "output_type": "stream",
     "text": [
      "36\n"
     ]
    },
    {
     "name": "stderr",
     "output_type": "stream",
     "text": [
      "17:55:53 - cmdstanpy - INFO - Chain [1] start processing\n",
      "17:55:54 - cmdstanpy - INFO - Chain [1] done processing\n"
     ]
    },
    {
     "name": "stdout",
     "output_type": "stream",
     "text": [
      "37\n"
     ]
    },
    {
     "name": "stderr",
     "output_type": "stream",
     "text": [
      "17:56:23 - cmdstanpy - INFO - Chain [1] start processing\n",
      "17:56:24 - cmdstanpy - INFO - Chain [1] done processing\n"
     ]
    },
    {
     "name": "stdout",
     "output_type": "stream",
     "text": [
      "38\n"
     ]
    },
    {
     "name": "stderr",
     "output_type": "stream",
     "text": [
      "17:56:46 - cmdstanpy - INFO - Chain [1] start processing\n",
      "17:56:47 - cmdstanpy - INFO - Chain [1] done processing\n"
     ]
    },
    {
     "name": "stdout",
     "output_type": "stream",
     "text": [
      "39\n"
     ]
    },
    {
     "name": "stderr",
     "output_type": "stream",
     "text": [
      "17:57:06 - cmdstanpy - INFO - Chain [1] start processing\n",
      "17:57:07 - cmdstanpy - INFO - Chain [1] done processing\n",
      "/Users/william/opt/anaconda3/lib/python3.9/site-packages/prophet/plot.py:67: RuntimeWarning: More than 20 figures have been opened. Figures created through the pyplot interface (`matplotlib.pyplot.figure`) are retained until explicitly closed and may consume too much memory. (To control this warning, see the rcParam `figure.max_open_warning`).\n",
      "  fig = plt.figure(facecolor='w', figsize=figsize)\n"
     ]
    },
    {
     "name": "stdout",
     "output_type": "stream",
     "text": [
      "40\n"
     ]
    },
    {
     "name": "stderr",
     "output_type": "stream",
     "text": [
      "17:57:22 - cmdstanpy - INFO - Chain [1] start processing\n",
      "17:57:23 - cmdstanpy - INFO - Chain [1] done processing\n"
     ]
    },
    {
     "name": "stdout",
     "output_type": "stream",
     "text": [
      "41\n"
     ]
    },
    {
     "name": "stderr",
     "output_type": "stream",
     "text": [
      "17:57:37 - cmdstanpy - INFO - Chain [1] start processing\n",
      "17:57:38 - cmdstanpy - INFO - Chain [1] done processing\n"
     ]
    },
    {
     "name": "stdout",
     "output_type": "stream",
     "text": [
      "42\n"
     ]
    },
    {
     "name": "stderr",
     "output_type": "stream",
     "text": [
      "17:57:47 - cmdstanpy - INFO - Chain [1] start processing\n",
      "17:57:48 - cmdstanpy - INFO - Chain [1] done processing\n"
     ]
    },
    {
     "name": "stdout",
     "output_type": "stream",
     "text": [
      "43\n"
     ]
    },
    {
     "name": "stderr",
     "output_type": "stream",
     "text": [
      "17:58:00 - cmdstanpy - INFO - Chain [1] start processing\n",
      "17:58:00 - cmdstanpy - INFO - Chain [1] done processing\n"
     ]
    },
    {
     "name": "stdout",
     "output_type": "stream",
     "text": [
      "44\n"
     ]
    },
    {
     "name": "stderr",
     "output_type": "stream",
     "text": [
      "17:58:14 - cmdstanpy - INFO - Chain [1] start processing\n",
      "17:58:15 - cmdstanpy - INFO - Chain [1] done processing\n"
     ]
    },
    {
     "name": "stdout",
     "output_type": "stream",
     "text": [
      "45\n"
     ]
    },
    {
     "name": "stderr",
     "output_type": "stream",
     "text": [
      "17:58:26 - cmdstanpy - INFO - Chain [1] start processing\n",
      "17:58:26 - cmdstanpy - INFO - Chain [1] done processing\n"
     ]
    },
    {
     "name": "stdout",
     "output_type": "stream",
     "text": [
      "178\n"
     ]
    },
    {
     "name": "stderr",
     "output_type": "stream",
     "text": [
      "17:58:40 - cmdstanpy - INFO - Chain [1] start processing\n",
      "17:58:40 - cmdstanpy - INFO - Chain [1] done processing\n"
     ]
    },
    {
     "name": "stdout",
     "output_type": "stream",
     "text": [
      "179\n"
     ]
    }
   ],
   "source": [
    "import matplotlib.pyplot as plt\n",
    "import numpy as np\n",
    "import requests\n",
    "import pandas as pd\n",
    "from prophet import Prophet\n",
    "from bs4 import BeautifulSoup\n",
    "\n",
    "\n",
    "start_date = '2017-01-01'\n",
    "end_date = '2022-08-26'\n",
    "type_ids = open('type_ids.txt', 'r')\n",
    "items = {}\n",
    "\n",
    "for i in type_ids.readlines():\n",
    "    items[i.split('|')[0]] = i.split('|')[1].split('\\n')[0]\n",
    "    \n",
    "for type_id in items.keys():\n",
    "    print(type_id)\n",
    "    ds = []\n",
    "    y = []\n",
    "\n",
    "    session = requests.Session()\n",
    "    page = session.get(f'https://www.adam4eve.eu/commodity.php?regionID=10000002&typeID={type_id}&from={start_date}&until={end_date}')\n",
    "    soup = BeautifulSoup(page.content, 'html.parser')\n",
    "    values = str(soup.find_all('script')[8])\n",
    "    values = values.split('d = new Dygraph(document.getElementById(\"graphdiv\"),')[0].split('{')[0]\n",
    "\n",
    "    for i in range(values.count('new Date')):\n",
    "        entry = values.split('[new Date(\\'')[i + 1]\n",
    "        date = entry.split('\\'')[0]\n",
    "        price = entry.split('[')[1].split(',')[1]\n",
    "        ds.append(date)\n",
    "        y.append(float(price))\n",
    "    \n",
    "\n",
    "    d = {'ds': ds, 'y': y}\n",
    "    df = pd.DataFrame(data = d)\n",
    "\n",
    "    m = Prophet()\n",
    "    m.fit(df)\n",
    "    future = m.make_future_dataframe(periods = 60)\n",
    "\n",
    "    forecast = m.predict(future)\n",
    "\n",
    "    fig1 = m.plot(forecast)\n",
    "    fig2 = m.plot_components(forecast)\n",
    "\n",
    "    maxdate = None\n",
    "    maxprice = -100000000000000000000\n",
    "    current_price = forecast['yhat'][len(forecast) - 61]\n",
    "\n",
    "    for i in range(len(forecast) - 60, len(forecast)):\n",
    "        if forecast['yhat'][i] > maxprice:\n",
    "            maxprice = forecast['yhat'][i]\n",
    "            maxdate = forecast['ds'][i]\n",
    "        \n",
    "    if maxprice > current_price:\n",
    "        file = open('profitable_items.txt', 'a')\n",
    "        file.write(f'{items[type_id]} {type_id}')\n",
    "        file.write('\\n')\n",
    "        file.write(f'highest profit on {maxdate} | profit: {(maxprice - current_price) / current_price * 100}%')\n",
    "        file.write('\\n')\n",
    "        file.close()"
   ]
  },
  {
   "cell_type": "code",
   "execution_count": null,
   "id": "58b9fb0c",
   "metadata": {},
   "outputs": [],
   "source": []
  }
 ],
 "metadata": {
  "kernelspec": {
   "display_name": "Python 3 (ipykernel)",
   "language": "python",
   "name": "python3"
  },
  "language_info": {
   "codemirror_mode": {
    "name": "ipython",
    "version": 3
   },
   "file_extension": ".py",
   "mimetype": "text/x-python",
   "name": "python",
   "nbconvert_exporter": "python",
   "pygments_lexer": "ipython3",
   "version": "3.9.12"
  }
 },
 "nbformat": 4,
 "nbformat_minor": 5
}
